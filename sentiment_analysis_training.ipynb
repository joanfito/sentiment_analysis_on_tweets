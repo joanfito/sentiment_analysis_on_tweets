{
  "nbformat": 4,
  "nbformat_minor": 0,
  "metadata": {
    "colab": {
      "name": "sentiment_analysis_training.ipynb",
      "provenance": [],
      "collapsed_sections": []
    },
    "kernelspec": {
      "name": "python3",
      "display_name": "Python 3"
    },
    "language_info": {
      "name": "python"
    },
    "accelerator": "GPU"
  },
  "cells": [
    {
      "cell_type": "code",
      "metadata": {
        "colab": {
          "base_uri": "https://localhost:8080/"
        },
        "id": "SP9HjsgN1_vq",
        "outputId": "f54281ae-6dc3-4f85-ba3d-0115c5b47dcb"
      },
      "source": [
        "from google.colab import drive\n",
        "drive.mount(\"/content/gdrive\")"
      ],
      "execution_count": 1,
      "outputs": [
        {
          "output_type": "stream",
          "text": [
            "Mounted at /content/gdrive\n"
          ],
          "name": "stdout"
        }
      ]
    },
    {
      "cell_type": "code",
      "metadata": {
        "colab": {
          "base_uri": "https://localhost:8080/"
        },
        "id": "IBfKDJMo2JkY",
        "outputId": "e99ff77d-8ba9-4f94-c970-23e4ae4008d7"
      },
      "source": [
        "!python3 gdrive/MyDrive/pepsico/main.py -t --train_data gdrive/MyDrive/pepsico/data/clean_training.csv"
      ],
      "execution_count": 2,
      "outputs": [
        {
          "output_type": "stream",
          "text": [
            "tcmalloc: large alloc 1280401408 bytes == 0x55cf13418000 @  0x7f17f4c401e7 0x7f17f16cc46e 0x7f17f171cc7b 0x7f17f171d35f 0x7f17f17bf103 0x55cf010d0cc0 0x55cf010d0a50 0x55cf01144453 0x55cf0113f4ae 0x55cf010d23ea 0x55cf0114132a 0x55cf0113f4ae 0x55cf010d23ea 0x55cf0114132a 0x55cf0113f4ae 0x55cf010d23ea 0x55cf0114132a 0x55cf010d230a 0x55cf011403b5 0x55cf010d230a 0x55cf011403b5 0x55cf0113f4ae 0x55cf0113f1b3 0x55cf01209182 0x55cf012094fd 0x55cf012093a6 0x55cf011e0723 0x55cf011e03cc 0x7f17f3a2abf7 0x55cf011e02aa\n",
            "Model: \"sequential\"\n",
            "_________________________________________________________________\n",
            "Layer (type)                 Output Shape              Param #   \n",
            "=================================================================\n",
            "embedding (Embedding)        (None, 200, 20)           100000    \n",
            "_________________________________________________________________\n",
            "lstm (LSTM)                  (None, 100)               48400     \n",
            "_________________________________________________________________\n",
            "dropout (Dropout)            (None, 100)               0         \n",
            "_________________________________________________________________\n",
            "dropout_1 (Dropout)          (None, 100)               0         \n",
            "_________________________________________________________________\n",
            "dense (Dense)                (None, 20)                2020      \n",
            "_________________________________________________________________\n",
            "dense_1 (Dense)              (None, 3)                 63        \n",
            "=================================================================\n",
            "Total params: 150,483\n",
            "Trainable params: 150,483\n",
            "Non-trainable params: 0\n",
            "_________________________________________________________________\n",
            "None\n",
            "Epoch 1/8\n",
            "30010/30010 [==============================] - 377s 12ms/step - loss: 0.4856 - accuracy: 0.7685 - val_loss: 0.4648 - val_accuracy: 0.7783\n",
            "Epoch 2/8\n",
            "30010/30010 [==============================] - 372s 12ms/step - loss: 0.4613 - accuracy: 0.7825 - val_loss: 0.4585 - val_accuracy: 0.7827\n",
            "Epoch 3/8\n",
            "30010/30010 [==============================] - 371s 12ms/step - loss: 0.4529 - accuracy: 0.7874 - val_loss: 0.4588 - val_accuracy: 0.7841\n",
            "Epoch 4/8\n",
            "30010/30010 [==============================] - 363s 12ms/step - loss: 0.4477 - accuracy: 0.7902 - val_loss: 0.4542 - val_accuracy: 0.7850\n",
            "Epoch 5/8\n",
            "30010/30010 [==============================] - 362s 12ms/step - loss: 0.4431 - accuracy: 0.7928 - val_loss: 0.4568 - val_accuracy: 0.7860\n",
            "Epoch 6/8\n",
            "30010/30010 [==============================] - 366s 12ms/step - loss: 0.4391 - accuracy: 0.7952 - val_loss: 0.4555 - val_accuracy: 0.7849\n",
            "Epoch 7/8\n",
            "30010/30010 [==============================] - 363s 12ms/step - loss: 0.4355 - accuracy: 0.7970 - val_loss: 0.4541 - val_accuracy: 0.7863\n",
            "Epoch 8/8\n",
            "30010/30010 [==============================] - 362s 12ms/step - loss: 0.4325 - accuracy: 0.7989 - val_loss: 0.4550 - val_accuracy: 0.7863\n",
            "/usr/local/lib/python3.7/dist-packages/sklearn/metrics/_classification.py:1272: UndefinedMetricWarning: Precision and F-score are ill-defined and being set to 0.0 in labels with no predicted samples. Use `zero_division` parameter to control this behavior.\n",
            "  _warn_prf(average, modifier, msg_start, len(result))\n",
            "              precision    recall  f1-score   support\n",
            "\n",
            "    negative       0.79      0.78      0.79    159917\n",
            "     neutral       0.00      0.00      0.00        20\n",
            "    positive       0.78      0.79      0.79    160163\n",
            "\n",
            "    accuracy                           0.79    320100\n",
            "   macro avg       0.52      0.52      0.52    320100\n",
            "weighted avg       0.79      0.79      0.79    320100\n",
            "\n"
          ],
          "name": "stdout"
        }
      ]
    },
    {
      "cell_type": "code",
      "metadata": {
        "id": "Dj04OZ082Ob_"
      },
      "source": [
        ""
      ],
      "execution_count": null,
      "outputs": []
    }
  ]
}