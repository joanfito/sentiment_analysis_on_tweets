{
  "nbformat": 4,
  "nbformat_minor": 0,
  "metadata": {
    "colab": {
      "name": "sentiment_analysis_training.ipynb",
      "provenance": [],
      "collapsed_sections": []
    },
    "kernelspec": {
      "name": "python3",
      "display_name": "Python 3"
    },
    "language_info": {
      "name": "python"
    },
    "accelerator": "GPU"
  },
  "cells": [
    {
      "cell_type": "code",
      "metadata": {
        "colab": {
          "base_uri": "https://localhost:8080/"
        },
        "id": "SP9HjsgN1_vq",
        "outputId": "398f1edf-43e5-43dc-a35b-2847a5a2ee6c"
      },
      "source": [
        "from google.colab import drive\n",
        "drive.mount(\"/content/gdrive\")"
      ],
      "execution_count": 4,
      "outputs": [
        {
          "output_type": "stream",
          "text": [
            "Drive already mounted at /content/gdrive; to attempt to forcibly remount, call drive.mount(\"/content/gdrive\", force_remount=True).\n"
          ],
          "name": "stdout"
        }
      ]
    },
    {
      "cell_type": "code",
      "metadata": {
        "colab": {
          "base_uri": "https://localhost:8080/"
        },
        "id": "IBfKDJMo2JkY",
        "outputId": "4004aae0-af1c-44fd-c91d-a825c719952c"
      },
      "source": [
        "!python3 gdrive/MyDrive/pepsico/main.py -t --train_data gdrive/MyDrive/pepsico/data/clean_training.csv"
      ],
      "execution_count": 5,
      "outputs": [
        {
          "output_type": "stream",
          "text": [
            "tcmalloc: large alloc 1280294912 bytes == 0x55fc160f4000 @  0x7f0db81dd1e7 0x7f0db4c6946e 0x7f0db4cb9c7b 0x7f0db4cba35f 0x7f0db4d5c103 0x55fc01b6ccc0 0x55fc01b6ca50 0x55fc01be0453 0x55fc01bdb4ae 0x55fc01b6e3ea 0x55fc01bdd32a 0x55fc01bdb4ae 0x55fc01b6e3ea 0x55fc01bdd32a 0x55fc01bdb4ae 0x55fc01b6e3ea 0x55fc01bdd32a 0x55fc01b6e30a 0x55fc01bdc3b5 0x55fc01b6e30a 0x55fc01bdc3b5 0x55fc01bdb4ae 0x55fc01bdb1b3 0x55fc01ca5182 0x55fc01ca54fd 0x55fc01ca53a6 0x55fc01c7c723 0x55fc01c7c3cc 0x7f0db6fc7bf7 0x55fc01c7c2aa\n",
            "Model: \"sequential\"\n",
            "_________________________________________________________________\n",
            "Layer (type)                 Output Shape              Param #   \n",
            "=================================================================\n",
            "embedding (Embedding)        (None, 200, 20)           100000    \n",
            "_________________________________________________________________\n",
            "lstm (LSTM)                  (None, 100)               48400     \n",
            "_________________________________________________________________\n",
            "dropout (Dropout)            (None, 100)               0         \n",
            "_________________________________________________________________\n",
            "dropout_1 (Dropout)          (None, 100)               0         \n",
            "_________________________________________________________________\n",
            "dense (Dense)                (None, 20)                2020      \n",
            "_________________________________________________________________\n",
            "dense_1 (Dense)              (None, 2)                 42        \n",
            "=================================================================\n",
            "Total params: 150,462\n",
            "Trainable params: 150,462\n",
            "Non-trainable params: 0\n",
            "_________________________________________________________________\n",
            "None\n",
            "Epoch 1/8\n",
            "30007/30007 [==============================] - 379s 12ms/step - loss: 0.4812 - accuracy: 0.7696 - val_loss: 0.4635 - val_accuracy: 0.7790\n",
            "Epoch 2/8\n",
            "30007/30007 [==============================] - 367s 12ms/step - loss: 0.4605 - accuracy: 0.7823 - val_loss: 0.4558 - val_accuracy: 0.7834\n",
            "Epoch 3/8\n",
            "30007/30007 [==============================] - 366s 12ms/step - loss: 0.4516 - accuracy: 0.7874 - val_loss: 0.4515 - val_accuracy: 0.7858\n",
            "Epoch 4/8\n",
            "30007/30007 [==============================] - 362s 12ms/step - loss: 0.4451 - accuracy: 0.7913 - val_loss: 0.4499 - val_accuracy: 0.7869\n",
            "Epoch 5/8\n",
            "30007/30007 [==============================] - 362s 12ms/step - loss: 0.4404 - accuracy: 0.7942 - val_loss: 0.4505 - val_accuracy: 0.7870\n",
            "Epoch 6/8\n",
            "30007/30007 [==============================] - 361s 12ms/step - loss: 0.4362 - accuracy: 0.7965 - val_loss: 0.4497 - val_accuracy: 0.7870\n",
            "Epoch 7/8\n",
            "30007/30007 [==============================] - 361s 12ms/step - loss: 0.4323 - accuracy: 0.7990 - val_loss: 0.4529 - val_accuracy: 0.7859\n",
            "Epoch 8/8\n",
            "30007/30007 [==============================] - 362s 12ms/step - loss: 0.4285 - accuracy: 0.8011 - val_loss: 0.4546 - val_accuracy: 0.7849\n",
            "              precision    recall  f1-score   support\n",
            "\n",
            "    negative       0.77      0.81      0.79    159937\n",
            "    positive       0.80      0.76      0.78    160135\n",
            "\n",
            "    accuracy                           0.79    320072\n",
            "   macro avg       0.79      0.79      0.79    320072\n",
            "weighted avg       0.79      0.79      0.79    320072\n",
            "\n"
          ],
          "name": "stdout"
        }
      ]
    },
    {
      "cell_type": "code",
      "metadata": {
        "id": "Dj04OZ082Ob_"
      },
      "source": [
        ""
      ],
      "execution_count": null,
      "outputs": []
    }
  ]
}